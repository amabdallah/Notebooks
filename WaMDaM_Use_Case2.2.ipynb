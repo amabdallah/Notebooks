{
 "cells": [
  {
   "cell_type": "markdown",
   "metadata": {},
   "source": [
    "### What agriculture water use data to use for a demand site?\n",
    "\n",
    "old\n",
    "### Use Case 2.2: What differences are there across datasets in agriculture water use in an area?\n",
    "\n",
    "This notebook demonstrates basic WaMDaM use cases analysis using scientific Python libraries such as [pandas](https://pandas.pydata.org/) and [plotly](https://plot.ly/).  It reads WaMDaM SQLite data from a published HydroShare Generic Resource, runs SQL script, and them uses Python plotly to visualize the results\n",
    "\n",
    "This use case identifies five volume-elevation curves for Hyrum Reservoir, Utah from three datasets: USBOR, Utah Dams, and WEAP model datasets\n",
    "\n",
    "For more info: http://docs.wamdam.org/UseCases/use_case_2/#use-case-2.2\n",
    "\n"
   ]
  },
  {
   "cell_type": "code",
   "execution_count": 1,
   "metadata": {},
   "outputs": [],
   "source": [
    "import os\n",
    "from utilities import hydroshare\n",
    "#from hs_restclient import HydroShare\n",
    "\n",
    "import sqlite3\n",
    "import numpy as np\n",
    "import pandas as pd"
   ]
  },
  {
   "cell_type": "code",
   "execution_count": null,
   "metadata": {},
   "outputs": [],
   "source": [
    "!pip install plotly  # python 2.7\n",
    "!pip3 install plotly # python3\n",
    "!conda install --yes -c plotly plotly -y"
   ]
  },
  {
   "cell_type": "markdown",
   "metadata": {},
   "source": [
    "\n",
    "WaMDaM database test file (SQLite) on HydroShare\n",
    "https://www.hydroshare.org/resource/1601e9f029984a87affcd94af6b4bad0/\n",
    "\n"
   ]
  },
  {
   "cell_type": "markdown",
   "metadata": {},
   "source": [
    "import os\n",
    "from utilities import hydroshare\n",
    "#from hs_restclient import HydroShare\n",
    "\n",
    "import sqlite3\n",
    "import numpy as np\n",
    "import pandas as pd"
   ]
  },
  {
   "cell_type": "markdown",
   "metadata": {},
   "source": [
    "Next we need to establish a secure connection with HydroShare. This is done by simply instantiating the hydroshare class that is defined within hs_utils. In addition to connecting with HydroShare, this command also sets environment variables for several parameters that may useful to you:\n",
    "\n",
    "Your username\n",
    "The ID of the resource which launched the notebook\n",
    "The type of resource that launched this notebook\n",
    "The url for the notebook server."
   ]
  },
  {
   "cell_type": "code",
   "execution_count": 2,
   "metadata": {},
   "outputs": [
    {
     "name": "stdout",
     "output_type": "stream",
     "text": [
      "Adding the following system variables:\n",
      "   HS_USR_NAME = amabdallah\n",
      "   HS_RES_ID = e3fc4c100a1440be8ed2669e3803cef9\n",
      "   HS_RES_TYPE = genericresource\n",
      "   JUPYTER_HUB_IP = jupyter.cuahsi.org\n",
      "\n",
      "These can be accessed using the following command: \n",
      "   os.environ[key]\n",
      "\n",
      "   (e.g.)\n",
      "   os.environ[\"HS_USR_NAME\"]  => amabdallah\n",
      "Successfully established a connection with HydroShare\n"
     ]
    }
   ],
   "source": [
    "# establish a secure connection to HydroShare\n",
    "hs = hydroshare.hydroshare()"
   ]
  },
  {
   "cell_type": "code",
   "execution_count": 3,
   "metadata": {},
   "outputs": [
    {
     "name": "stdout",
     "output_type": "stream",
     "text": [
      "This resource already exists in your userspace.\n",
      "Would you like to overwrite this data [Y/n]? y\n",
      "Download Finished                               \n",
      "Successfully downloaded resource bec9b20118804d119c4bfc232caea559\n"
     ]
    },
    {
     "data": {
      "text/html": [
       "<b>Found the following file(s) associated with this HydroShare resource.</b>"
      ],
      "text/plain": [
       "<IPython.core.display.HTML object>"
      ]
     },
     "metadata": {},
     "output_type": "display_data"
    },
    {
     "data": {
      "text/html": [
       "BearRiverDatasets_Jan2018.sqlite"
      ],
      "text/plain": [
       "<IPython.core.display.HTML object>"
      ]
     },
     "metadata": {},
     "output_type": "display_data"
    },
    {
     "data": {
      "text/html": [
       "These files are stored in a dictionary called <b>hs.content</b> for your convenience.  To access a file, simply issue the following command where MY_FILE is one of the files listed above: <pre>hs.content[\"MY_FILE\"] </pre> "
      ],
      "text/plain": [
       "<IPython.core.display.HTML object>"
      ]
     },
     "metadata": {},
     "output_type": "display_data"
    }
   ],
   "source": [
    "### Retrieve a resource using its ID\n",
    "\n",
    "# The data for our processing routines can be retrieved using the `getResourceFromHydroShare` function by passing it the global identifier from the url above\n",
    "# get some resource content. The resource content is returned as a dictionary\n",
    "# Abdallah, A. (2018). Bear River Datasets, HydroShare, http://www.hydroshare.org/resource/bec9b20118804d119c4bfc232caea559\n",
    "content = hs.getResourceFromHydroShare('bec9b20118804d119c4bfc232caea559')\n",
    "\n"
   ]
  },
  {
   "cell_type": "code",
   "execution_count": 4,
   "metadata": {},
   "outputs": [
    {
     "name": "stdout",
     "output_type": "stream",
     "text": [
      "connected\n"
     ]
    }
   ],
   "source": [
    "# Use SQLite engine to connect to the SQLite file. \n",
    "# Then we can run queries against it within this notebook :)  \n",
    "conn = sqlite3.connect(hs.content[\"BearRiverDatasets_Jan2018.sqlite\"])\n",
    "print 'connected'"
   ]
  },
  {
   "cell_type": "code",
   "execution_count": null,
   "metadata": {},
   "outputs": [],
   "source": [
    "# Query the water use data\n",
    "\n",
    "# 4.2MultiAttributeValues.csv\n",
    "import urllib\n",
    "\n",
    "# for simplicity, we call the query directly from GitHub as a text. You may use the query here but it will be too long to show in a cell \n",
    "#https://github.com/WamdamProject/WaMDaM_UseCases/blob/master/UseCases_files/4Queries_SQL/UseCase2/UseCase2.3/4_MultiAttributeValues.sql\n",
    "\n",
    "txt1 = urllib.urlopen(\"https://raw.githubusercontent.com/WamdamProject/WaMDaM_UseCases/master/UseCases_files/4Queries_SQL/UseCase2/UseCase2.3/3_MultipleTimeSeriesColumnsSameTimeStamp.sql\").read()\n",
    "\n",
    "# pass the query to the SQLite connection\n",
    "df = pd.read_sql_query(txt1, conn)\n",
    "\n",
    "# Save the query result into a CSV file\n",
    "df.to_csv('query_resut.csv')\n",
    "\n",
    "# to print the table result here within the notebook, just uncomment the df line below\n",
    "#df\n"
   ]
  },
  {
   "cell_type": "code",
   "execution_count": null,
   "metadata": {},
   "outputs": [],
   "source": [
    "\n"
   ]
  },
  {
   "cell_type": "code",
   "execution_count": null,
   "metadata": {},
   "outputs": [],
   "source": [
    "# Import plotly libraries and set it to the notebook mode to embed the figures within a cell\n",
    "import plotly.offline as offline\n",
    "import plotly.graph_objs as go\n",
    "\n",
    "offline.init_notebook_mode()"
   ]
  },
  {
   "cell_type": "code",
   "execution_count": null,
   "metadata": {},
   "outputs": [],
   "source": [
    "# UseCase2.2_dentifyDemandSites_TimeSeriesValues.py\n",
    "\n",
    "# plot time series data aggregated in space and time from multiple sources\n",
    "\n",
    "# Jan 25, 2018\n",
    "# Adel Abdallah\n",
    "\n",
    "import plotly\n",
    "import plotly.plotly as py\n",
    "import plotly.graph_objs as go\n",
    "from random import randint\n",
    "import pandas as pd\n",
    "\n",
    "#6.3dentifyDemandSites_TimeSeriesValues.csv\n",
    "\n",
    "## read the input data from GitHub csv file which is a direct query output\n",
    "#To get the data block (WaterYear,CumulativeAnnual) for each curve, you need to look up two columns:\n",
    "#ScenarioName and then AttributeName. So the combination of these two columns will have their separate set of data.\n",
    "df = pd.read_csv('https://raw.githubusercontent.com/WamdamProject/WaMDaM_UseCases/master/UseCases_files/5Results_CSV/3.3dentifyDemandSites_TimeSeriesValues.csv')\n",
    "\n",
    "subsets = df.groupby('AttributeName')\n",
    "\n",
    "data = []\n",
    "\n",
    "\n",
    "# for each subset (curve), set up its legend and line info manually so they can be edited\n",
    "subsets_settings = {\n",
    "    '11 sites (time series): WEAP Model 2017': {\n",
    "        'dash': 'solid',\n",
    "        'legend_index': 0,\n",
    "        'legend_name': '<br> 11 sites (seasonal): WEAP Model 2017 <br> \"Monthly Demand\" ',\n",
    "        'width':'3',\n",
    "        'color':'rgb(41, 10, 216)'\n",
    "        },      \n",
    "    'Diversions /surface water': {\n",
    "        'dash': 'solid',\n",
    "        'legend_index': 1,\n",
    "        'legend_name': '<br> 1 site (time series): WaDE <br> \"Diversions/surface water\"',\n",
    "        'width':'3',\n",
    "        'color':'rgb(38, 77, 255)'        \n",
    "        },        \n",
    "        \n",
    "    'Water Use /surface and ground': {\n",
    "        'dash': 'dash',\n",
    "        'legend_index': 2,\n",
    "        'legend_name': '<br> 1 site (time series): WaDE  <br> \"Water Use/surface and ground water\"',\n",
    "        'width':'3',\n",
    "        'color':'rgb(63, 160, 255)'\n",
    "        },\n",
    "    \n",
    "    'dReq': { # this one is the name of subset as it appears in the csv file\n",
    "        'dash': 'solid',     # this is properity of the line (curve)\n",
    "        'legend_index': 3,   # to order the legend\n",
    "        'legend_name': '<br> 5 sites (time series): WASH Model <br> \"dReq\"',  # this is the manual curve name \n",
    "         'width':'3',\n",
    "        'color':'rgb(114, 217, 255)'\n",
    "        },\n",
    "    'Monthly Demand': {\n",
    "        'dash': 'solid',\n",
    "        'legend_index': 4,\n",
    "        'legend_name': '<br> 1 site (time series): WEAP Model 2010 <br> \"Monthly Demand\"',\n",
    "        'width':'3',\n",
    "        'color':'rgb(170, 247, 255)'\n",
    "        },\n",
    "\n",
    "            }\n",
    "    \n",
    "\n",
    "# This dict is used to map legend_name to original subset name\n",
    "subsets_names = {y['legend_name']: x for x,y in subsets_settings.iteritems()}\n",
    "\n",
    "\n",
    "for subset in subsets.groups.keys():\n",
    "    print subset\n",
    "    scenario_name_data = subsets.get_group(name=subset)\n",
    "    subsets_of_scenario = scenario_name_data.groupby(\"AttributeName\")\n",
    "    for group in subsets_of_scenario.groups.keys():\n",
    "        s = go.Scatter(\n",
    "                x = subsets_of_scenario.get_group(name=group).WaterYear,\n",
    "                y = subsets_of_scenario.get_group(name=group).CumulativeAnnual,\n",
    "                name = subsets_settings[subset]['legend_name'],\n",
    "                line = dict(\n",
    "                        color =subsets_settings[subset]['color'],\n",
    "                        width =subsets_settings[subset]['width'], \n",
    "                        dash=subsets_settings[subset]['dash']\n",
    "                        ),\n",
    "                mode = 'lines',\n",
    "                opacity = 1)\n",
    "        data.append(s)\n",
    "        \n",
    "      \n",
    "        \n",
    "# horizontal line\n",
    "horizontal_line = go.Scatter(\n",
    "    x=[2005, 2016],\n",
    "    y=[232642.28, 232642.28],\n",
    "    mode='lines',\n",
    "    name = '<br> 11 sites (seasonal): WEAP Model 2017 <br> \"Monthly Demand\" ',\n",
    "    hoverinfo='11 sites: WEAP Model 2017',\n",
    "    showlegend=True,\n",
    "    line=dict(\n",
    "        shape='hv',\n",
    "        color = 'rgb(38, 15, 153)',\n",
    "        width='3'\n",
    "    )\n",
    ")\n",
    "data.append(horizontal_line)\n",
    "\n",
    "\n",
    "# Legend is ordered based on data, so we are sorting the data based \n",
    "# on desired legend order indicarted by the index value entered above\n",
    "data.sort(key=lambda x: subsets_settings[subsets_names[x['name']]]['legend_index'])        \n",
    "   \n",
    "layout = dict(\n",
    "    #title = \"Use Case 6\",\n",
    "    yaxis = dict(\n",
    "        title = \"Total volume per water year <br> (acre-feet)\",       \n",
    "        tickformat= ',',\n",
    "        showline=True,\n",
    "        range = ['0', '260000'],\n",
    "\n",
    "                ),\n",
    "    xaxis = dict(\n",
    "        range = ['2003', '2016'],\n",
    "        ticks='outside',\n",
    "        tickwidth=0.5,\n",
    "        ticklen=25,\n",
    "        showline=True\n",
    "                ),\n",
    "    legend=dict(x=0.86,y=0.445,\n",
    "                bordercolor='#00000',\n",
    "                borderwidth=2  \n",
    "               ),\n",
    "     width=1650,\n",
    "    height=1000,\n",
    "    margin=go.Margin(\n",
    "        l=250,\n",
    "        b=100       ),\n",
    "    #paper_bgcolor='rgb(233,233,233)',\n",
    "    #plot_bgcolor='rgb(233,233,233)',\n",
    "    font=dict(size=32)\n",
    "\n",
    ")\n",
    "\n",
    "\n",
    "# see the label Lines with Annotations\n",
    "# https://plot.ly/python/line-charts/      \n",
    "annotations = []\n",
    "\n",
    "label = ['11 sites', '1 site', '1 site', '5 sites','1 site']\n",
    "\n",
    "for legend_index in subsets_settings:\n",
    "    annotations.append(dict(xref='paper', x=2004, y=subsets_settings[legend_index],\n",
    "                                  xanchor='right', yanchor='middle',\n",
    "                                  text=label)\n",
    "                      )\n",
    "\n",
    "layout['annotations'] = annotations\n",
    "                \n",
    "\n",
    "# create a figure object          \n",
    "fig = dict(data=data, layout=layout)\n",
    "\n",
    "#py.iplot(fig, filename = \"UseCase2.2_dentifyDemandSites_TimeSeriesValues\") \n",
    "\n",
    "## it can be run from the local machine on Pycharm like this like below\n",
    "## It would also work here offline but in a seperate window  \n",
    "plotly.offline.plot(fig, filename = \"UseCase2.2_dentifyDemandSites_TimeSeriesValues\")       \n",
    "\n",
    "offline.iplot(fig,filename = 'UseCase2.2_dentifyDemandSites_TimeSeriesValues',\n",
    "             image='png')\n",
    "# it might take 30-60 seconds to load the html interactive image "
   ]
  },
  {
   "cell_type": "code",
   "execution_count": null,
   "metadata": {},
   "outputs": [],
   "source": []
  },
  {
   "cell_type": "markdown",
   "metadata": {},
   "source": [
    "# Connect to the WEAP API\n",
    "First make sure to have a copy of the Water Evaluation And Planning\" system (WEAP) installed on your local machine (Windows). \n",
    "You will need to have an active licence to use the API\n",
    "For more info, see here http://www.weap21.org/index.asp?action=40\n",
    "\n",
    "## WEAP API info \n",
    "http://www.weap21.org/WebHelp/API.htm\n",
    "\n",
    "## Install dependency and register WEAP\n",
    "### A. Install pywin32 extensions which provide access to many of the Windows APIs from Python.\n",
    "**Choose on option**\n",
    "1. Install using an executable basedon your python version. I used Python 2.7\n",
    "https://github.com/mhammond/pywin32/releases\n",
    "\n",
    "2. Install from source code (for advanced users) \n",
    "https://github.com/mhammond/pywin32\n",
    "\n",
    "### B. Register WEAP with Windows \n",
    "Use Windows \"Command Prompt\" as Administrator, go to WEAP install directory (e.g. `cd C:\\Program Files (x86)\\WEAP`) and simply run the following command: \n",
    "\n",
    "`WEAP /regserver`"
   ]
  },
  {
   "cell_type": "code",
   "execution_count": 8,
   "metadata": {},
   "outputs": [
    {
     "ename": "SyntaxError",
     "evalue": "invalid syntax (<ipython-input-8-6527b68e6ed0>, line 1)",
     "output_type": "error",
     "traceback": [
      "\u001b[0;36m  File \u001b[0;32m\"<ipython-input-8-6527b68e6ed0>\"\u001b[0;36m, line \u001b[0;32m1\u001b[0m\n\u001b[0;31m    python Scripts/pywin32_postinstall.py -install\u001b[0m\n\u001b[0m                 ^\u001b[0m\n\u001b[0;31mSyntaxError\u001b[0m\u001b[0;31m:\u001b[0m invalid syntax\n"
     ]
    }
   ],
   "source": [
    "python Scripts/pywin32_postinstall.py -install"
   ]
  },
  {
   "cell_type": "markdown",
   "metadata": {},
   "source": [
    "## Connect to the WEAP model"
   ]
  },
  {
   "cell_type": "code",
   "execution_count": 7,
   "metadata": {},
   "outputs": [
    {
     "ename": "ImportError",
     "evalue": "No module named win32com.client",
     "output_type": "error",
     "traceback": [
      "\u001b[0;31m\u001b[0m",
      "\u001b[0;31mImportError\u001b[0mTraceback (most recent call last)",
      "\u001b[0;32m<ipython-input-7-2bb2605fef37>\u001b[0m in \u001b[0;36m<module>\u001b[0;34m()\u001b[0m\n\u001b[1;32m      1\u001b[0m \u001b[0;31m# this library is needed to connect to the WEAP API\u001b[0m\u001b[0;34m\u001b[0m\u001b[0;34m\u001b[0m\u001b[0m\n\u001b[0;32m----> 2\u001b[0;31m \u001b[0;32mimport\u001b[0m \u001b[0mwin32com\u001b[0m\u001b[0;34m.\u001b[0m\u001b[0mclient\u001b[0m\u001b[0;34m\u001b[0m\u001b[0m\n\u001b[0m\u001b[1;32m      3\u001b[0m \u001b[0;34m\u001b[0m\u001b[0m\n\u001b[1;32m      4\u001b[0m \u001b[0;31m# this command will open the WEAP software (if closed) and get the last active model\u001b[0m\u001b[0;34m\u001b[0m\u001b[0;34m\u001b[0m\u001b[0m\n\u001b[1;32m      5\u001b[0m \u001b[0;31m# you could change the active area to another one inside WEAP or by passing it to the command here\u001b[0m\u001b[0;34m\u001b[0m\u001b[0;34m\u001b[0m\u001b[0m\n",
      "\u001b[0;31mImportError\u001b[0m: No module named win32com.client"
     ]
    }
   ],
   "source": [
    "# this library is needed to connect to the WEAP API\n",
    "import win32com.client\n",
    "\n",
    "# this command will open the WEAP software (if closed) and get the last active model\n",
    "# you could change the active area to another one inside WEAP or by passing it to the command here\n",
    "#WEAP.ActiveArea = \"BearRiverFeb2017_V10.9\"\n",
    "\n",
    "WEAP=win32com.client.Dispatch(\"WEAP.WEAPApplication\")\n",
    "\n",
    "# get the active WEAP Area (model) to serve data into it \n",
    "ActiveArea=WEAP.ActiveArea.Name \n",
    "print  'ActiveArea= '+ActiveArea\n",
    "\n",
    "# get the active WEAP scenario to serve data into it \n",
    "\n",
    "ActiveScenario= WEAP.ActiveScenario.Name\n",
    "print 'ActiveScenario= '+ActiveScenario\n",
    "\n",
    "\n"
   ]
  },
  {
   "cell_type": "code",
   "execution_count": null,
   "metadata": {},
   "outputs": [],
   "source": []
  },
  {
   "cell_type": "markdown",
   "metadata": {
    "collapsed": true
   },
   "source": [
    "<a id='section4'></a>\n",
    "### 4. Creating a new HydroShare resource\n",
    "\n",
    "The best way to save your data is to put it back into HydroShare and is done using the `createHydroShareResource` function. The first step is to identify the files you want to save to a HydroShare.  The cell below lists all the files in the current working directory."
   ]
  },
  {
   "cell_type": "code",
   "execution_count": null,
   "metadata": {},
   "outputs": [],
   "source": []
  },
  {
   "cell_type": "code",
   "execution_count": null,
   "metadata": {},
   "outputs": [],
   "source": [
    "# Grab all the files in the folder where you are working  \n",
    "files = !ls\n",
    "print('My files: %s' % files)"
   ]
  },
  {
   "cell_type": "code",
   "execution_count": null,
   "metadata": {},
   "outputs": [],
   "source": []
  },
  {
   "cell_type": "code",
   "execution_count": null,
   "metadata": {},
   "outputs": [],
   "source": [
    "# lets save this content as a new resource in HydroShare\n",
    "abstract = 'This is a demo of the HydroShare Python Notebook Server for WaMDaM'\n",
    "title = 'WaMDaM_Use_Case2.2'    \n",
    "keywords = ['Demo', 'JupyterHub']  \n",
    "rtype = 'genericresource'          \n",
    "\n",
    "# create a list of files that will be added to the HydroShare resource.\n",
    "#files = ['WaMDaM_use_cases_Multi_columns.ipynb.ipynb']  # this notebook\n",
    "        "
   ]
  },
  {
   "cell_type": "code",
   "execution_count": null,
   "metadata": {},
   "outputs": [],
   "source": [
    "# create a list of files that will be added to the HydroShare resource.\n",
    "    \n",
    "files = [hs.content['BearRiverDatasets_Jan2018.sqlite'],'WaMDaM_Use_Case2.2.ipynb']  # this notebook"
   ]
  },
  {
   "cell_type": "code",
   "execution_count": null,
   "metadata": {},
   "outputs": [],
   "source": [
    "    \n",
    "# create the new resource\n",
    "resource_id = hs.createHydroShareResource(abstract, \n",
    "                                          title, \n",
    "                                          keywords=keywords, \n",
    "                                          resource_type=rtype, \n",
    "                                          content_files=files, \n",
    "                                          public=True)"
   ]
  },
  {
   "cell_type": "code",
   "execution_count": null,
   "metadata": {},
   "outputs": [],
   "source": []
  }
 ],
 "metadata": {
  "kernelspec": {
   "display_name": "Python 2.7",
   "language": "python",
   "name": "python2"
  },
  "language_info": {
   "codemirror_mode": {
    "name": "ipython",
    "version": 2
   },
   "file_extension": ".py",
   "mimetype": "text/x-python",
   "name": "python",
   "nbconvert_exporter": "python",
   "pygments_lexer": "ipython2",
   "version": "2.7.14"
  }
 },
 "nbformat": 4,
 "nbformat_minor": 2
}
