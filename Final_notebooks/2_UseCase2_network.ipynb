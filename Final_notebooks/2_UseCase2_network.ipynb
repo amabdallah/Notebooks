{
 "cells": [
  {
   "cell_type": "markdown",
   "metadata": {},
   "source": [
    "## Use Case 2: How does connectivity of natural and built infrastructure components compare in a particular area across datasets? \n",
    "\n",
    "This notebook demonstrates basic WaMDaM use cases analysis using scientific Python libraries such as [pandas](https://pandas.pydata.org/) and [plotly](https://plot.ly/).  It reads WaMDaM SQLite data from a published HydroShare Generic Resource, runs SQL script, and them uses Python plotly to visualize the results\n",
    "\n",
    "\n",
    "This use case identifies three models connectivites for Hyrum Reserovoir, UT \n",
    "\n",
    "For more info: http://docs.wamdam.org/UseCases/use_case_2/\n",
    "\n",
    "![](https://raw.githubusercontent.com/WamdamProject/WaMDaM_UseCases/master/UseCases_files/8Figures_jpg/UseCase2.PNG)\n",
    "\n",
    "\n",
    "### Steps to reproduce this use case results and plots \n",
    "\n",
    "1. [Import python libraries](#Import) \n",
    "\n",
    "2. [Connect to the WaMDaM populated SQLite file](#Connect) \n",
    "\n",
    "3. [Get network connctions at Hyrum Reservoir, Utah](#NetworkAtHyrum)\n",
    "\n",
    "4. [Get network connctions at Hyrum Reservoir, Utah](#NetworkAtHyrum)\n",
    "\n",
    "5. [Get network connctions at Bear River Migratory Bird Refuge, Utah](#NetworkAtRefuge)\n",
    "\n",
    "6. [Get network connctions at Shasta Reservoir, California](#NetworkAtShasta)\n",
    "\n",
    "7. [Close the SQLite connection](#Close)\n",
    "\n"
   ]
  },
  {
   "cell_type": "markdown",
   "metadata": {},
   "source": [
    "# 1. Import python libraries \n",
    "\n",
    "<a name=\"Import\"></a>\n",
    "\n",
    "### Install any missing ones you dont have. How? see at this link here\n",
    "https://jakevdp.github.io/blog/2017/12/05/installing-python-packages-from-jupyter/"
   ]
  },
  {
   "cell_type": "code",
   "execution_count": null,
   "metadata": {
    "collapsed": false
   },
   "outputs": [],
   "source": [
    "# 1. Import python libraries \n",
    "\n",
    "import os\n",
    "import csv\n",
    "from collections import OrderedDict\n",
    "import sqlite3\n",
    "import pandas as pd\n",
    "import numpy as np\n",
    "from IPython.display import display, Image, SVG, Math, YouTubeVideo\n",
    "import urllib\n",
    "\n",
    "print 'imported'"
   ]
  },
  {
   "cell_type": "markdown",
   "metadata": {},
   "source": [
    "# 2. Connect to the WaMDaM populated SQLite file \n",
    "<a name=\"Connect\"></a>"
   ]
  },
  {
   "cell_type": "code",
   "execution_count": null,
   "metadata": {
    "collapsed": false
   },
   "outputs": [],
   "source": [
    "# 2. Connect to the WaMDaM populated SQLite file \n",
    "\n",
    "# Then we can run queries against it within this notebook :)  \n",
    "\n",
    "# the SQLite file is published here \n",
    "#https://github.com/WamdamProject/WaMDaM_UseCases/blob/master/UseCases_files/3SQLite_database/BearRiverDatasets_June_2018.sqlite\n",
    "\n",
    "conn = sqlite3.connect('BearRiverDatasets_June_2018_Final.sqlite')\n",
    "\n",
    "print 'connected'"
   ]
  },
  {
   "cell_type": "markdown",
   "metadata": {},
   "source": [
    "# Get network connctions at Hyrum Reservoir, Utah\n",
    "<a name=\"NetworkAtHyrum\"></a>"
   ]
  },
  {
   "cell_type": "code",
   "execution_count": null,
   "metadata": {
    "collapsed": false
   },
   "outputs": [],
   "source": [
    "# Get network connctions at Hyrum Reservoir, Utah\n",
    "\n",
    "Query_connect_URL=\"\"\"\n",
    "https://raw.githubusercontent.com/WamdamProject/WaMDaM_UseCases/master/UseCases_files/4Queries_SQL/UseCase2/1_FindNodeLinkInstances_Hyrum.sql\n",
    "\"\"\"\n",
    "# Read the query text inside the URL\n",
    "Query_connect_text = urllib.urlopen(Query_connect_URL).read()\n",
    "# return query result in a pandas data frame\n",
    "result_df_connect= pd.read_sql_query(Query_connect_text, conn)\n",
    "\n",
    "# print the dataframe to inspect it    \n",
    "# display (result_df_connect) \n",
    "\n",
    "# Save the datafrom as a csv file into the Jupyter notebook working space\n",
    "result_df_connect.to_csv('UseCases_Results_csv\\Hyrum_connect.csv', index = False)\n",
    "\n",
    "\n",
    "display (result_df_connect)\n",
    "   "
   ]
  },
  {
   "cell_type": "markdown",
   "metadata": {
    "collapsed": true
   },
   "source": [
    "# Reproduce the plot above?\n",
    "<a name=\"Reproduce\"></a>"
   ]
  },
  {
   "cell_type": "markdown",
   "metadata": {},
   "source": [
    "#### Use Microsoft Visio or any other charting software like Lucidchart to plot the node of interest and all the lines that connet to it. \n",
    "\n",
    "#### Group each plot per the ResourceType (source) and Scenario\n",
    "\n",
    "![](https://raw.githubusercontent.com/WamdamProject/WaMDaM_UseCases/master/UseCases_files/8Figures_jpg/UseCase2.PNG)\n"
   ]
  },
  {
   "cell_type": "markdown",
   "metadata": {
    "collapsed": true
   },
   "source": [
    "\n",
    "# Get network connctions at Bear River Migratory Bird Refuge, Utah\n",
    "<a name=\"NetworkAtRefuge\"></a>"
   ]
  },
  {
   "cell_type": "code",
   "execution_count": null,
   "metadata": {
    "collapsed": true
   },
   "outputs": [],
   "source": [
    "# query connectivity at the Bear River Migratory Bird Refuge, Utah\n",
    "Query_connect_URL=\"\"\"\n",
    "https://raw.githubusercontent.com/WamdamProject/WaMDaM_UseCases/master/UseCases_files/4Queries_SQL/UseCase2/2_FindNodeLinkInstances_refuge.sql\n",
    "\"\"\"\n",
    "# Read the query text inside the URL\n",
    "Query_connect_text = urllib.urlopen(Query_connect_URL).read()\n",
    "# return query result in a pandas data frame\n",
    "result_df_connect= pd.read_sql_query(Query_connect_text, conn)\n",
    "\n",
    "# print the dataframe to inspect it    \n",
    "# display (result_df_connect) \n",
    "\n",
    "# Save the datafrom as a csv file into the Jupyter notebook working space\n",
    "result_df_connect.to_csv('UseCases_Results_csv\\BirdRefuge_connect.csv', index = False)\n",
    "\n",
    "display (result_df_connect)\n",
    "\n",
    "\n",
    "   "
   ]
  },
  {
   "cell_type": "markdown",
   "metadata": {
    "collapsed": true
   },
   "source": [
    "\n",
    "# Get network connctions at Shasta Reservoir, California\t\n",
    "<a name=\"NetworkAtShasta\"></a>"
   ]
  },
  {
   "cell_type": "code",
   "execution_count": null,
   "metadata": {
    "collapsed": true
   },
   "outputs": [],
   "source": [
    "# Get network connctions at Shasta Reservoir, California\t\n",
    "\n",
    "# query connectivity at the Shasta Reservoir, California\n",
    "Query_connect_URL=\"\"\"\n",
    "https://raw.githubusercontent.com/WamdamProject/WaMDaM_UseCases/master/UseCases_files/4Queries_SQL/UseCase2/3_FindNodeLinkInstances_Shasta.sql\n",
    "\"\"\"\n",
    "# Read the query text inside the URL\n",
    "Query_connect_text = urllib.urlopen(Query_connect_URL).read()\n",
    "# return query result in a pandas data frame\n",
    "result_df_connect= pd.read_sql_query(Query_connect_text, conn)\n",
    "\n",
    "# print the dataframe to inspect it    \n",
    "# display (result_df_connect) \n",
    "\n",
    "# Save the datafrom as a csv file into the Jupyter notebook working space\n",
    "result_df_connect.to_csv('UseCases_Results_csv\\Shasta_connect.csv', index = False)\n",
    "\n",
    "\n",
    "display (result_df_connect)\n",
    "\n",
    "   "
   ]
  },
  {
   "cell_type": "markdown",
   "metadata": {},
   "source": [
    "# 6. Close the SQLite connection\n",
    "<a name=\"Close\"></a>"
   ]
  },
  {
   "cell_type": "code",
   "execution_count": null,
   "metadata": {
    "collapsed": true
   },
   "outputs": [],
   "source": [
    "conn.close()\n",
    "\n",
    "print 'connection disconnected'"
   ]
  },
  {
   "cell_type": "markdown",
   "metadata": {
    "collapsed": true
   },
   "source": [
    "# The End :)"
   ]
  },
  {
   "cell_type": "code",
   "execution_count": null,
   "metadata": {
    "collapsed": true
   },
   "outputs": [],
   "source": []
  }
 ],
 "metadata": {
  "kernelspec": {
   "display_name": "Python 2",
   "language": "python",
   "name": "python2"
  },
  "language_info": {
   "codemirror_mode": {
    "name": "ipython",
    "version": 2
   },
   "file_extension": ".py",
   "mimetype": "text/x-python",
   "name": "python",
   "nbconvert_exporter": "python",
   "pygments_lexer": "ipython2",
   "version": "2.7.13"
  }
 },
 "nbformat": 4,
 "nbformat_minor": 2
}
