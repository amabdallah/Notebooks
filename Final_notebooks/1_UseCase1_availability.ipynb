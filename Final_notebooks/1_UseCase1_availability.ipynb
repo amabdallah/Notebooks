{
 "cells": [
  {
   "cell_type": "markdown",
   "metadata": {},
   "source": [
    "### Use Case 1:  What data are available to develop a model in a particular watershed? \n",
    "### Number of available attributes to expand WEAP and WASH models to the entire Bear River Watershed\n",
    "This notebook demonstrates basic WaMDaM use cases analysis using scientific Python libraries such as [pandas](https://pandas.pydata.org/) and [plotly](https://plot.ly/).  It reads WaMDaM SQLite data from a published HydroShare Generic Resource, runs SQL script, and them uses Python plotly to visualize the results\n",
    "\n",
    "\n",
    "This use case identifies three models connectivites for Hyrum Reserovoir, UT \n",
    "\n",
    "For more info: http://docs.wamdam.org/UseCases/use_case_1/\n",
    "\n",
    "  <img src=\"https://github.com/WamdamProject/WaMDaM-software-ecosystem/raw/master/mkdocs/Edit_MD_Files/UseCases/images/UseCase1.jpg\" style=\"float:right;width:800px;padding:20px\">   \n",
    "Example conceptual mapping showing how the use of controlled vocabulary can help retrieve different available native attributes in datasets for reservoirs in the WEAP model instance.\n",
    "\n",
    "\n",
    "### Steps to reproduce this use case results and plots \n",
    "\n",
    "1. [Import python libraries](#Import) \n",
    "2. [Connect to the WaMDaM populated SQLite file](#Connect) \n",
    "3. [Search for data to expand the WEAP Model from the Lower into the entire Bear River Watershed](#SearchWEAP)\n",
    "4. [Search for data to expand the WASH Model from the Lower into the entire Bear River Watershed](#SearchWASH)\n",
    "5. [Plot the data availability summary Figure](#Plot) \n",
    "6. [Close the SQLite connection](#Close)"
   ]
  },
  {
   "cell_type": "markdown",
   "metadata": {},
   "source": [
    "# 1. Import python libraries \n",
    "\n",
    "<a name=\"Import\"></a>\n",
    "\n",
    "### Install any missing ones you dont have. How? see at this link here\n",
    "https://jakevdp.github.io/blog/2017/12/05/installing-python-packages-from-jupyter/"
   ]
  },
  {
   "cell_type": "code",
   "execution_count": 10,
   "metadata": {
    "collapsed": false
   },
   "outputs": [
    {
     "data": {
      "text/html": [
       "<script>requirejs.config({paths: { 'plotly': ['https://cdn.plot.ly/plotly-latest.min']},});if(!window.Plotly) {{require(['plotly'],function(plotly) {window.Plotly=plotly;});}}</script>"
      ],
      "text/vnd.plotly.v1+html": [
       "<script>requirejs.config({paths: { 'plotly': ['https://cdn.plot.ly/plotly-latest.min']},});if(!window.Plotly) {{require(['plotly'],function(plotly) {window.Plotly=plotly;});}}</script>"
      ]
     },
     "metadata": {},
     "output_type": "display_data"
    },
    {
     "data": {
      "text/html": [
       "<script>requirejs.config({paths: { 'plotly': ['https://cdn.plot.ly/plotly-latest.min']},});if(!window.Plotly) {{require(['plotly'],function(plotly) {window.Plotly=plotly;});}}</script>"
      ],
      "text/vnd.plotly.v1+html": [
       "<script>requirejs.config({paths: { 'plotly': ['https://cdn.plot.ly/plotly-latest.min']},});if(!window.Plotly) {{require(['plotly'],function(plotly) {window.Plotly=plotly;});}}</script>"
      ]
     },
     "metadata": {},
     "output_type": "display_data"
    },
    {
     "name": "stdout",
     "output_type": "stream",
     "text": [
      "imported\n"
     ]
    }
   ],
   "source": [
    "# 1. Import python libraries \n",
    "\n",
    "# set the notebook mode to embed the figures within the cell\n",
    "\n",
    "import plotly\n",
    "plotly.__version__\n",
    "import plotly.offline as offline\n",
    "import plotly.graph_objs as go\n",
    "from plotly.offline import download_plotlyjs, init_notebook_mode, plot, iplot\n",
    "offline.init_notebook_mode(connected=True)\n",
    "from plotly.offline import init_notebook_mode, iplot\n",
    "from plotly.graph_objs import *\n",
    "\n",
    "init_notebook_mode(connected=True)         # initiate notebook for offline plot\n",
    "\n",
    "import os\n",
    "import csv\n",
    "from collections import OrderedDict\n",
    "import sqlite3\n",
    "import pandas as pd\n",
    "import numpy as np\n",
    "from IPython.display import display, Image, SVG, Math, YouTubeVideo\n",
    "import urllib\n",
    "\n",
    "print 'imported'"
   ]
  },
  {
   "cell_type": "markdown",
   "metadata": {},
   "source": [
    "# 2. Connect to the WaMDaM populated SQLite file \n",
    "<a name=\"Connect\"></a>"
   ]
  },
  {
   "cell_type": "code",
   "execution_count": 8,
   "metadata": {
    "collapsed": false
   },
   "outputs": [
    {
     "name": "stdout",
     "output_type": "stream",
     "text": [
      "connected\n"
     ]
    }
   ],
   "source": [
    "# Then we can run queries against it within this notebook :)  \n",
    "\n",
    "# the SQLite file is published here \n",
    "#https://github.com/WamdamProject/WaMDaM_UseCases/blob/master/UseCases_files/3SQLite_database/BearRiverDatasets_June_2018.sqlite\n",
    "\n",
    "conn = sqlite3.connect('BearRiverDatasets_June_2018_Final.sqlite')\n",
    "\n",
    "print 'connected'"
   ]
  },
  {
   "cell_type": "markdown",
   "metadata": {},
   "source": [
    "# 3. Search for data to expand the WEAP Model\n",
    "\n",
    "<a name=\"SearchWEAP\"></a>"
   ]
  },
  {
   "cell_type": "code",
   "execution_count": 9,
   "metadata": {
    "collapsed": false
   },
   "outputs": [
    {
     "name": "stdout",
     "output_type": "stream",
     "text": [
      "[175, 13, 26, 162]\n"
     ]
    }
   ],
   "source": [
    "\n",
    "# 1. Total required attributes\n",
    "Query_required_URL=\"\"\"\n",
    "https://raw.githubusercontent.com/WamdamProject/WaMDaM_UseCases/master/UseCases_files/4Queries_SQL/UseCase1/WEAP/1.1_Identify_WEAPmodel_requirements.sql\"\"\"\n",
    "# Read the query text inside the URL\n",
    "Query_required_text = urllib.urlopen(Query_required_URL).read()\n",
    "# return query result in a pandas data frame\n",
    "result_df_required= pd.read_sql_query(Query_required_text, conn)\n",
    "\n",
    "# uncomment the below line to see the list of attributes\n",
    "# display (result_df_required)\n",
    "\n",
    "\n",
    "# Save the datafrom as a csv file into the Jupyter notebook working space\n",
    "result_df_required.to_csv('UseCases_Results_csv\\WEAP_result_df_required.csv', index = False)\n",
    "\n",
    "\n",
    "\n",
    "# Count the total number of required attributes needed for WEAP models\n",
    "Count_req_Att=result_df_required.shape[0] #gives number of row count\n",
    "# -----------------------------------------------------------------------------------------------\n",
    "\n",
    "# 2. Total Available attributes\n",
    "Query_Available_URL=\"\"\"\n",
    "https://raw.githubusercontent.com/WamdamProject/WaMDaM_UseCases/master/UseCases_files/4Queries_SQL/UseCase1/WEAP/1.2_WHICHAvailableDataForModel_WEAP.sql\n",
    "\"\"\"\n",
    "\n",
    "# Read the query text inside the URL\n",
    "Query_Available_text = urllib.urlopen(Query_Available_URL).read()\n",
    "# return query result in a pandas data frame\n",
    "result_df_Available= pd.read_sql_query(Query_Available_text, conn)\n",
    "\n",
    "# uncomment the below line to see the list of attributes\n",
    "# display (result_df_Available)\n",
    "\n",
    "\n",
    "# Save the datafrom as a csv file into the Jupyter notebook working space\n",
    "result_df_Available.to_csv('UseCases_Results_csv\\WEAP_result_df_Available.csv', index = False)\n",
    "\n",
    "\n",
    "# Count the total number of Available attributes needed for WEAP models\n",
    "Count_Available_Att=result_df_Available.shape[0] #gives number of row count\n",
    "\n",
    "# -----------------------------------------------------------------------------------------------\n",
    "\n",
    "# 3. Redundant available to choose from\n",
    "Query_Redundant_URL=\"\"\"\n",
    "https://raw.githubusercontent.com/WamdamProject/WaMDaM_UseCases/master/UseCases_files/4Queries_SQL/UseCase1/WEAP/1.3_WHEREAvailableDataForModel_WEAP.sql\n",
    "\"\"\"\n",
    "\n",
    "# Read the query text inside the URL\n",
    "Query_Redundant_text = urllib.urlopen(Query_Redundant_URL).read()\n",
    "# return query result in a pandas data frame\n",
    "result_df_Redundant= pd.read_sql_query(Query_Redundant_text, conn)\n",
    "\n",
    "# uncomment the below line to see the list of attributes\n",
    "# display (result_df_Redundant)\n",
    "\n",
    "\n",
    "# Save the datafrom as a csv file into the Jupyter notebook working space\n",
    "result_df_Redundant.to_csv('UseCases_Results_csv\\WEAP_result_df_Redundant.csv', index = False)\n",
    "\n",
    "\n",
    "# Count the total number of Redundant attributes needed for WEAP models\n",
    "Count_Redundant_Att=result_df_Redundant.shape[0] #gives number of row count\n",
    "\n",
    "# -----------------------------------------------------------------------------------------------\n",
    "\n",
    "# 4. No data available\n",
    "Query_NoData_URL=\"\"\"\n",
    "https://raw.githubusercontent.com/WamdamProject/WaMDaM_UseCases/master/UseCases_files/4Queries_SQL/UseCase1/WEAP/1.4_AdditionalDataForModel_WEAP.sql\n",
    "\"\"\"\n",
    "\n",
    "# Read the query text inside the URL\n",
    "Query_NoData_text = urllib.urlopen(Query_NoData_URL).read()\n",
    "# return query result in a pandas data frame\n",
    "result_df_NoData= pd.read_sql_query(Query_NoData_text, conn)\n",
    "\n",
    "# uncomment the below line to see the list of attributes\n",
    "# display (result_df_NoData)\n",
    "\n",
    "\n",
    "# Save the datafrom as a csv file into the Jupyter notebook working space\n",
    "result_df_NoData.to_csv('UseCases_Results_csv\\WEAP_result_df_NoData.csv', index = False)\n",
    "\n",
    "\n",
    "# Count the total number attributes with of NoData as needed for WEAP models\n",
    "Count_NoData_Att=result_df_NoData.shape[0] #gives number of row count\n",
    "\n",
    "# -----------------------------------------------------------------------------------------------\n",
    "\n",
    "\n",
    "\n",
    "# prepare the bar chart values to the plot function below\n",
    "Y_values_WEAP=[Count_req_Att,Count_Available_Att,Count_Redundant_Att,Count_NoData_Att]\n",
    "\n",
    "print Y_values_WEAP"
   ]
  },
  {
   "cell_type": "markdown",
   "metadata": {},
   "source": [
    "# 4. Search for data to expand the WASH Model\n",
    "<a name=\"SearchWASH\"></a>"
   ]
  },
  {
   "cell_type": "code",
   "execution_count": 11,
   "metadata": {
    "collapsed": false
   },
   "outputs": [
    {
     "name": "stdout",
     "output_type": "stream",
     "text": [
      "[61, 6, 18, 55]\n"
     ]
    }
   ],
   "source": [
    "\n",
    "# 1. Total required attributes\n",
    "Query_required_URL=\"\"\"\n",
    "https://raw.githubusercontent.com/WamdamProject/WaMDaM_UseCases/master/UseCases_files/4Queries_SQL/UseCase1/WASH/1.5_Identify_WASHmodel_requirements.sql\n",
    "\"\"\"\n",
    "# Read the query text inside the URL\n",
    "Query_required_text = urllib.urlopen(Query_required_URL).read()\n",
    "# return query result in a pandas data frame\n",
    "result_df_required= pd.read_sql_query(Query_required_text, conn)\n",
    "\n",
    "# uncomment the below line to see the list of attributes\n",
    "# display (result_df_required)\n",
    "\n",
    "\n",
    "# Save the datafrom as a csv file into the Jupyter notebook working space\n",
    "result_df_required.to_csv('UseCases_Results_csv\\WASH_result_df_required.csv', index = False)\n",
    "\n",
    "\n",
    "# Count the total number of required attributes needed for WEAP models\n",
    "Count_req_Att=result_df_required.shape[0] #gives number of row count\n",
    "# -----------------------------------------------------------------------------------------------\n",
    "\n",
    "# 2. Total Available attributes\n",
    "Query_Available_URL=\"\"\"\n",
    "https://raw.githubusercontent.com/WamdamProject/WaMDaM_UseCases/master/UseCases_files/4Queries_SQL/UseCase1/WASH/1.6_WHICHAvailableDataForModel_WASH.sql\n",
    "\"\"\"\n",
    "\n",
    "# Read the query text inside the URL\n",
    "Query_Available_text = urllib.urlopen(Query_Available_URL).read()\n",
    "# return query result in a pandas data frame\n",
    "result_df_Available= pd.read_sql_query(Query_Available_text, conn)\n",
    "\n",
    "# uncomment the below line to see the list of attributes\n",
    "# display (result_df_Available)\n",
    "\n",
    "# Save the datafrom as a csv file into the Jupyter notebook working space\n",
    "result_df_Available.to_csv('UseCases_Results_csv\\WASH_result_df_Available.csv', index = False)\n",
    "\n",
    "\n",
    "# Count the total number of Available attributes needed for WEAP models\n",
    "Count_Available_Att=result_df_Available.shape[0] #gives number of row count\n",
    "\n",
    "# -----------------------------------------------------------------------------------------------\n",
    "\n",
    "# 3. Redundant available to choose from\n",
    "Query_Redundant_URL=\"\"\"\n",
    "https://raw.githubusercontent.com/WamdamProject/WaMDaM_UseCases/master/UseCases_files/4Queries_SQL/UseCase1/WASH/1.7_WHEREAvailableDataForModel_WASH.sql\n",
    "\"\"\"\n",
    "\n",
    "# Read the query text inside the URL\n",
    "Query_Redundant_text = urllib.urlopen(Query_Redundant_URL).read()\n",
    "# return query result in a pandas data frame\n",
    "result_df_Redundant= pd.read_sql_query(Query_Redundant_text, conn)\n",
    "\n",
    "# uncomment the below line to see the list of attributes\n",
    "# display (result_df_Redundant)\n",
    "\n",
    "# Save the datafrom as a csv file into the Jupyter notebook working space\n",
    "result_df_Redundant.to_csv('UseCases_Results_csv\\WASH_result_df_Redundant.csv', index = False)\n",
    "\n",
    "# Count the total number of Redundant attributes needed for WEAP models\n",
    "Count_Redundant_Att=result_df_Redundant.shape[0] #gives number of row count\n",
    "\n",
    "# -----------------------------------------------------------------------------------------------\n",
    "\n",
    "# 4. No data available\n",
    "Query_NoData_URL=\"\"\"\n",
    "https://raw.githubusercontent.com/WamdamProject/WaMDaM_UseCases/master/UseCases_files/4Queries_SQL/UseCase1/WASH/1.8_AdditionalDataForModel_WASH.sql\n",
    "\"\"\"\n",
    "\n",
    "# Read the query text inside the URL\n",
    "Query_NoData_text = urllib.urlopen(Query_NoData_URL).read()\n",
    "# return query result in a pandas data frame\n",
    "result_df_NoData= pd.read_sql_query(Query_NoData_text, conn)\n",
    "\n",
    "# uncomment the below line to see the list of attributes\n",
    "# display (result_df_NoData)\n",
    "\n",
    "# Save the datafrom as a csv file into the Jupyter notebook working space\n",
    "result_df_NoData.to_csv('UseCases_Results_csv\\WASH_result_df_NoData.csv', index = False)\n",
    "\n",
    "\n",
    "# Count the total number attributes with of NoData as needed for WEAP models\n",
    "Count_NoData_Att=result_df_NoData.shape[0] #gives number of row count\n",
    "\n",
    "# -----------------------------------------------------------------------------------------------\n",
    "\n",
    "\n",
    "# prepare the bar chart values to the plot function below\n",
    "Y_values_WASH=[Count_req_Att,Count_Available_Att,Count_Redundant_Att,Count_NoData_Att]\n",
    "\n",
    "print Y_values_WASH"
   ]
  },
  {
   "cell_type": "markdown",
   "metadata": {},
   "source": [
    "# 5. Plot the data availability summary Figure (#9)\n",
    "### It shows data vailability summary to the WEAP and WASH models in the upper Bear River Watershed in Utah, Idaho, and Wyoming states\n",
    "\n",
    "<a name=\"Plot\"></a>\n",
    "\n",
    "![](https://raw.githubusercontent.com/WamdamProject/WaMDaM_UseCases/master/UseCases_files/8Figures_jpg/UseCase1b.png)"
   ]
  },
  {
   "cell_type": "code",
   "execution_count": 6,
   "metadata": {
    "collapsed": false
   },
   "outputs": [
    {
     "data": {
      "application/vnd.plotly.v1+json": {
       "data": [
        {
         "marker": {
          "color": "#0F6B99"
         },
         "name": "WEAP",
         "type": "bar",
         "x": [
          "Required",
          "Available",
          "Redundant to choose",
          "No data"
         ],
         "y": [
          175,
          13,
          26,
          162
         ]
        },
        {
         "marker": {
          "color": "#51A3CC"
         },
         "name": "WASH",
         "type": "bar",
         "x": [
          "Required",
          "Available",
          "Redundant to choose",
          "No data"
         ],
         "y": [
          61,
          6,
          18,
          55
         ]
        }
       ],
       "layout": {
        "autosize": false,
        "barmode": "group",
        "font": {
         "color": "#000000",
         "family": "arial",
         "size": 20
        },
        "height": 650,
        "legend": {
         "orientation": "h",
         "x": 0.2,
         "y": 1
        },
        "margin": {
         "b": 150
        },
        "width": 860,
        "xaxis": {
         "tickfont": {
          "color": "#000000",
          "family": "arial",
          "size": 20
         }
        },
        "yaxis": {
         "tickfont": {
          "color": "#000000",
          "family": "arial",
          "size": 20
         },
         "title": "# of attributes",
         "titlefont": {
          "color": "#000000",
          "family": "arial",
          "size": 20
         }
        }
       }
      },
      "text/html": [
       "<div id=\"7c184fd0-9b7a-4fff-bac3-dee2f792873a\" style=\"height: 650px; width: 860px;\" class=\"plotly-graph-div\"></div><script type=\"text/javascript\">require([\"plotly\"], function(Plotly) { window.PLOTLYENV=window.PLOTLYENV || {};window.PLOTLYENV.BASE_URL=\"https://plot.ly\";Plotly.newPlot(\"7c184fd0-9b7a-4fff-bac3-dee2f792873a\", [{\"marker\": {\"color\": \"#0F6B99\"}, \"y\": [175, 13, 26, 162], \"type\": \"bar\", \"name\": \"WEAP\", \"x\": [\"Required\", \"Available\", \"Redundant to choose\", \"No data\"]}, {\"marker\": {\"color\": \"#51A3CC\"}, \"y\": [61, 6, 18, 55], \"type\": \"bar\", \"name\": \"WASH\", \"x\": [\"Required\", \"Available\", \"Redundant to choose\", \"No data\"]}], {\"autosize\": false, \"barmode\": \"group\", \"yaxis\": {\"tickfont\": {\"color\": \"#000000\", \"family\": \"arial\", \"size\": 20}, \"titlefont\": {\"color\": \"#000000\", \"family\": \"arial\", \"size\": 20}, \"title\": \"# of attributes\"}, \"height\": 650, \"width\": 860, \"xaxis\": {\"tickfont\": {\"color\": \"#000000\", \"family\": \"arial\", \"size\": 20}}, \"font\": {\"color\": \"#000000\", \"family\": \"arial\", \"size\": 20}, \"margin\": {\"b\": 150}, \"legend\": {\"y\": 1.0, \"x\": 0.2, \"orientation\": \"h\"}}, {\"linkText\": \"Export to plot.ly\", \"showLink\": true})});</script>"
      ],
      "text/vnd.plotly.v1+html": [
       "<div id=\"7c184fd0-9b7a-4fff-bac3-dee2f792873a\" style=\"height: 650px; width: 860px;\" class=\"plotly-graph-div\"></div><script type=\"text/javascript\">require([\"plotly\"], function(Plotly) { window.PLOTLYENV=window.PLOTLYENV || {};window.PLOTLYENV.BASE_URL=\"https://plot.ly\";Plotly.newPlot(\"7c184fd0-9b7a-4fff-bac3-dee2f792873a\", [{\"marker\": {\"color\": \"#0F6B99\"}, \"y\": [175, 13, 26, 162], \"type\": \"bar\", \"name\": \"WEAP\", \"x\": [\"Required\", \"Available\", \"Redundant to choose\", \"No data\"]}, {\"marker\": {\"color\": \"#51A3CC\"}, \"y\": [61, 6, 18, 55], \"type\": \"bar\", \"name\": \"WASH\", \"x\": [\"Required\", \"Available\", \"Redundant to choose\", \"No data\"]}], {\"autosize\": false, \"barmode\": \"group\", \"yaxis\": {\"tickfont\": {\"color\": \"#000000\", \"family\": \"arial\", \"size\": 20}, \"titlefont\": {\"color\": \"#000000\", \"family\": \"arial\", \"size\": 20}, \"title\": \"# of attributes\"}, \"height\": 650, \"width\": 860, \"xaxis\": {\"tickfont\": {\"color\": \"#000000\", \"family\": \"arial\", \"size\": 20}}, \"font\": {\"color\": \"#000000\", \"family\": \"arial\", \"size\": 20}, \"margin\": {\"b\": 150}, \"legend\": {\"y\": 1.0, \"x\": 0.2, \"orientation\": \"h\"}}, {\"linkText\": \"Export to plot.ly\", \"showLink\": true})});</script>"
      ]
     },
     "metadata": {},
     "output_type": "display_data"
    },
    {
     "data": {
      "text/html": [
       "<script>function downloadimage(format, height, width, filename) {var p = document.getElementById('7c184fd0-9b7a-4fff-bac3-dee2f792873a');Plotly.downloadImage(p, {format: format, height: height, width: width, filename: filename});};if(document.readyState == 'complete') {{downloadimage('png', 600, 800, 'UseCase1b.html');}}</script>"
      ],
      "text/plain": [
       "<IPython.core.display.HTML object>"
      ]
     },
     "metadata": {},
     "output_type": "display_data"
    }
   ],
   "source": [
    "# Use Plotly \n",
    "\n",
    "WEAP_bars = go.Bar(\n",
    "    x=['Required', 'Available', 'Redundant to choose','No data'],\n",
    "    y=Y_values_WEAP,\n",
    "    name='WEAP',\n",
    "    marker=dict(\n",
    "        color='#0F6B99'),\n",
    ")\n",
    "\n",
    "\n",
    "\n",
    "WASH_bars = go.Bar(\n",
    "    x=['Required', 'Available', 'Redundant to choose','No data'],\n",
    "    y=Y_values_WASH,\n",
    "    name='WASH',\n",
    "    marker=dict(\n",
    "        color='#51A3CC'))\n",
    "\n",
    "data = [WEAP_bars, WASH_bars]\n",
    "\n",
    "layout = go.Layout(\n",
    "    barmode='group',\n",
    "    \n",
    "    legend=dict(\n",
    "        x=0.2,\n",
    "        y=1.0,orientation=\"h\"),\n",
    "    \n",
    "    \n",
    "    xaxis=dict(\n",
    "        tickfont=dict(\n",
    "            size=20,\n",
    "           color='#000000',family='arial'\n",
    "        )\n",
    "    ),\n",
    "    yaxis=dict(\n",
    "        title='# of attributes',\n",
    "        titlefont=dict(\n",
    "            size=20,\n",
    "           color='#000000',family='arial'\n",
    "        ),\n",
    "        tickfont=dict(\n",
    "            size=20,\n",
    "            color='#000000',family='arial'\n",
    "        )\n",
    "    ),    \n",
    "     autosize=False,\n",
    "    width=860,\n",
    "    height=650,\n",
    "        margin=dict(\n",
    "         b=150), \n",
    "font=dict(size=20,family='arial',color='#000000'),\n",
    "\n",
    ")\n",
    "\n",
    "fig = {\n",
    "    'data': data,\n",
    "    'layout': layout,}\n",
    "\n",
    "\n",
    "plotly.offline.iplot(fig,filename = 'UseCase1b.html',image='png')\n",
    "\n",
    "\n",
    "###########################################################################################################\n",
    "# Have you encounterd the messages below?\n",
    "# ----------------------------------------------\n",
    "# Javascript error adding output!\n",
    "# ReferenceError: Plotly is not defined\n",
    "# See your browser Javascript console for more details.\n",
    "# ----------------------------------------------\n",
    "\n",
    "# Do the follwoing:\n",
    "\n",
    "# Kernel -> Restart -> Clear all outputs and restart\n",
    "# Save\n",
    "# Close browser\n",
    "# Open browser and run again\n",
    "\n"
   ]
  },
  {
   "cell_type": "markdown",
   "metadata": {},
   "source": [
    "# 6. Close the SQLite connection\n",
    "<a name=\"Close\"></a>"
   ]
  },
  {
   "cell_type": "code",
   "execution_count": 11,
   "metadata": {
    "collapsed": false
   },
   "outputs": [
    {
     "name": "stdout",
     "output_type": "stream",
     "text": [
      "connection disconnected\n"
     ]
    }
   ],
   "source": [
    "conn.close()\n",
    "\n",
    "print 'connection disconnected'"
   ]
  },
  {
   "cell_type": "markdown",
   "metadata": {},
   "source": [
    "# The End :)"
   ]
  },
  {
   "cell_type": "markdown",
   "metadata": {},
   "source": []
  },
  {
   "cell_type": "markdown",
   "metadata": {},
   "source": [
    "\n",
    "![]('https://raw.githubusercontent.com/WamdamProject/WaMDaM_UseCases/master/UseCases_files/8Figures_jpg/UseCase1b.png')\n",
    "\n"
   ]
  }
 ],
 "metadata": {
  "kernelspec": {
   "display_name": "Python 2",
   "language": "python",
   "name": "python2"
  },
  "language_info": {
   "codemirror_mode": {
    "name": "ipython",
    "version": 2
   },
   "file_extension": ".py",
   "mimetype": "text/x-python",
   "name": "python",
   "nbconvert_exporter": "python",
   "pygments_lexer": "ipython2",
   "version": "2.7.13"
  }
 },
 "nbformat": 4,
 "nbformat_minor": 2
}
