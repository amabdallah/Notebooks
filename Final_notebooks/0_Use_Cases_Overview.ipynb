{
 "cells": [
  {
   "cell_type": "markdown",
   "metadata": {},
   "source": [
    "# WaMDaM Use Cases: Overview\n",
    "This notebook demonstrates example use case analysis to query the Water Management Data Model (WaMDaM) database in SQLite which faciliates preparing input data for models. WaMDaM motivation, desing, and the description to the following use cases are documented in the paper: A Data Model to Manage Data for Water Resources Systems Modeling that is submitedd to Environmental Modelling & Software.\n",
    "\n",
    "**WaMDaM** is both an information model and a couple of supporting software ecosystem. WaMDaM tools are designed to organize, identify, and compare multiple [systems water management data](http://docs.wamdam.org/Why_WaMDaM/#what-are-the-water-management-data) in a single database. For more information, see http://wamdam.org/     \n",
    "  \n",
    "  \n",
    "  <img src=\"https://raw.githubusercontent.com/WamdamProject/WaMDaM-software-ecosystem/master/mkdocs/Edit_MD_Files/images/Graphical_abstract3.jpg\" style=\"float:right;width:500px;padding:20px\" align=\"left\">     \n",
    "\n",
    "    \n",
    "**The use cases aim** to assist modelers to build water resources models in data preparation activites to 1) search in datasets loaded in a WaMDaM SQLite database instance for input data needed for a model in a study area, 2) identify how the natural and engineered systems are connected and the directions of flow among them, 3) analyze and compare data values to use in a model, and 4) identify difference between two scenarios and choose which one to use in a model.\n",
    "  \n",
    "\n",
    "The Notebooks use the Python 2.7 libraries [pandas](https://pandas.pydata.org/), [SQLite](http://www.sqlitetutorial.net/sqlite-python/) and [plotly](https://plot.ly/) that are aready installed on the HydroShare Notebook server.\n",
    "\n",
    "**How to use the Notebook**   \n",
    "The Nootebook reads WaMDaM SQLite data from a published HydroShare Generic Resource, runs SQL script for each use case, and then uses plotly to visualize the results. SQL script used here is referenced from the GitHub files to maintain a managable and simple Notebook. However you may place and edit your SQL script within the Notebook as well as shown below. \n",
    "Once you're done with each use case, you may save the use case input SQLite file, the Notebook file, and the results of plots and tabels into a new HydroShare resources of your own. The scripts used in the use cases here is available at http://docs.wamdam.org/UseCases/Application/\n",
    "\n",
    "This tutorial first describes the Bear River Watershed study area and the datasets loaded into WaMDaM. Then it directs the readers to the following three use cases:\n",
    "\n",
    "* [**Use Case 1:** What data are available to develop a model in a particular watershed? ](#Use Case 1)\n",
    "  \n",
    "  \n",
    "* [**Use Case 2:** How does connectivity of natural and built infrastructure components compare in a particular area across datasets? ](#Use Case 2)\n",
    "  \n",
    "  \n",
    "* [**Use Case 3:** How do data values differ across datasets and which value to choose for a model? ](#Use Case 3) \n",
    "\n",
    "\n",
    "* [**Use Case 4:** What is the difference between two scenarios and which one to use in a model?](#Use Case 4)\n",
    "\n"
   ]
  },
  {
   "cell_type": "markdown",
   "metadata": {},
   "source": [
    "### Study Area and Data Sources\n",
    "<img src=\"https://github.com/WamdamProject/WaMDaM-software-ecosystem/raw/master/mkdocs/Edit_MD_Files/UseCases/images/BearWatershed.jpg\" style=\"float:right;width:500px;padding:20px\"> \n",
    "\n",
    "The use cases are demonstrated using the WaMDaM CVs, Workbook templates, and the WaMDaM Wizard to prepare and load thirteen national, regional, and local datasets and models load datasets into a WaMDaM SQLite database. \n",
    "\n",
    "We integrate and compare the disparate datasets with a focus to assist modelers to analyze input data for models with a focus on the Bear River Watershed that spans three states, Utah, Idaho, and Wyoming.\n",
    "\n",
    "The River begins in Utah, flows through Wyoming then Idaho, and ends as the largest source of water to the Great Salt Lake in Utah (UDWR, 2000).\n",
    "\n",
    "\n",
    "We use the [WaMDaM Wizard](http://docs.wamdam.org/Getting_started/Steps/) to load thirteen different and models into a single WaMDaM database SQLite file. The datasets cover natural and built water supply and demand, infrastructure connectivity, with different data types, networks and scenarios that cover the WaMDaM capabilities. Each of the datasets on GitHub below is prepared and copied into a WaMDaM Excel workbook. Then we loaded all of them one-at-a-time inton a single SQLite database file.\n",
    "\n",
    "<img src=\"https://github.com/WamdamProject/WaMDaM-software-ecosystem/raw/master/mkdocs/Edit_MD_Files/UseCases/images/Datasets.PNG\" style=\"float:left;width:900px;padding:20px\" align=\"middle\">       "
   ]
  },
  {
   "cell_type": "markdown",
   "metadata": {},
   "source": [
    "### [**Use Case 1:** What data are available to develop a model in a particular watershed?]\n",
    "<a name=\"Use Case 1\"></a>\n",
    "Building a water resources model to solve water management and planning problems requires populating the model with input data that describe the system. In existing practices, once a modeler selects a model and identifies its required types of input data, they manually search for datasets that contain relevant data. \n",
    "\n",
    "This use case shows how a modeler can use WaMDaM extensible Objects, Attributes, and controlled vocabularies to more readily and consistently identify available data from the 13 loaded datasets for WEAP and WASH models. Users can use identified data to expand existing WEAP and WASH model instances in the Lower Bear River Watershed Utah (light red in the study area Figure) to the entire Watershed (darker red in the study area Figure). \n",
    "\n",
    "### use case Jupyter Notebook file\n",
    "1_UseCase1_availability.ipynb\n"
   ]
  },
  {
   "cell_type": "markdown",
   "metadata": {},
   "source": [
    "### [**Use Case 2:** How does connectivity of natural and built infrastructure components compare in a particular area across datasets?]\n",
    "<a name=\"Use Case 2\"></a>\n",
    "Besides identifying data values that describe water systems components, researchers need to identify how water supply, demand, and other system components are connected to correctly represent them in models. This use case employs the features of controlled vocabularies and the connectivity of nodes and links through networks to enable a more readily and consistent method to search for water system components and their connectivity across datasets. WaMDaM uses the Connections table to search for all links where a provided node is a start (outflow) or end (inflow) to links. For example, what links flow into or out of Hyrum Reservoir in three model scenarios in the Little Bear River Utah? We draw a schematic for each one, which visually reveals similarities and differences among the networks (Figure 9). \n",
    "\n",
    "\n",
    "### use case Jupyter Notebook file\n",
    "\n",
    "2_UseCase2_network"
   ]
  },
  {
   "cell_type": "markdown",
   "metadata": {},
   "source": [
    "### **Use Case 3:** What differences are there across datasets in data values of properties of a water system component? \n",
    "<a name=\"Use Case 3\"></a>\n",
    "\n",
    "Once modelers have identified data availability in Use Case 1, next they need to determine which datasets and values to use in their model. Modelers often use many data management methods to query, manipulate, and join different water management data types (e.g., time series, multi-column arrays) to analyze and prepare them for systems models. \n",
    "\n",
    "Modelers also manually search for descriptive metadata stored separately in many files like PDF of HTML pages. This use case shows how a modeler can use WaMDaM’s multiple data types, controlled vocabularies, conditional queries, and metadata design features to consistently query and compare different types of data values across datasets.\n",
    "\n",
    "[**Use Case 3.1:** What differences are there across datasets in flow data values at a site?]  \n",
    "\n",
    "This case queries and compares multiple datasets that have the flow data where a modeler can use it to populate a model\n",
    "\n",
    "### use case Jupyter Notebook file\n",
    "\n",
    "3_Use_Case_3.1_TimeSeries\n",
    "\n",
    "\n",
    "\n",
    "[**Use Case 3.2:** What differences are there across datasets in agriculture water use in an area?]  \n",
    "\n",
    "Modelers often require data for agriculture and other water uses, which are often derived (not measured like flow).] \n",
    "\n",
    "[**Use Case 2.3:** What differences are there across datasets in volume and elevation curves of a reservoir? ]  \n",
    "\n",
    "Molders also search for attributes with another type of data like multi-attribute series, which can describe a reservoir bathymetry in relationships between elevation and storage to represent reservoirs physical capacity in the model\n",
    "\n",
    "\n",
    "[**Use Case 3.4:** What differences are there across datasets in dam heights, installed hydropower capacity, and number of generators for two reservoirs?]\n",
    "\n",
    "Modelers may search for attributes with numeric and descriptive values to correctly understand and represent the functions of water systems like modeling hydropower in Reservoirs. In this case, we use the controlled Instances of Shasta Reservoir, California and Flaming Gorge Reservoir, Utah to identify and compare and relate their dam heights, installed hydropower capacity, and number of generators across both the US Dams and the National Hydropower Datasets (Table 5). With a 100 feet higher dam and four more installed generators, the Shasta Reservoir has a hydropower capacity at about five times of the Flaming Gorge Reservoir. "
   ]
  },
  {
   "cell_type": "markdown",
   "metadata": {},
   "source": [
    "### [** Use Case 4:** What is the difference between two scenarios and which one to use in a model?]\n",
    "<a name=\"Use Case 4\"></a>\n",
    "\n",
    "Modelers use scenarios to simulate how potential management alternatives can affect the system performance within their defined metrics. However, models typically have a large number of attributes and inputs and it is often difficult to determine the differences in topology, data values, or data sources between multiple scenarios. Here we use the WaMDaM master network and scenario features and the WaMDM Wizard Data Loader comparison function to help a modeler identify and understand differences between existing scenarios in a model. The users run a script that queries the ScenarioMappings table and identifies the data that is shared among and unique to each scenario. Comparison results are exported to an Excel Workbook. "
   ]
  },
  {
   "cell_type": "markdown",
   "metadata": {},
   "source": [
    "### Sponsors and Credit\n",
    "This material is based upon work [supported](http://docs.wamdam.org/SponsorsCredit/) by the National Science Foundation (NSF) under Grants 1135482 (CI-Water) and 1208732 (iUtah). Any opinions, findings, and conclusions or recommendations expressed in this material are those of the author(s) and do not necessarily reflect the views of the NSF.\n",
    "\n",
    "### License\n",
    "WaMDaM and its products are disturbed under a BSD 3-Clause [license](http://docs.wamdam.org/License/)\n",
    "\n",
    "### Authors\n",
    "[Adel M. Abdallah](http://adelmabdallah.com/) has been the lead in WaMDaM development as part of his PhD dissertation at Utah State University under the advising of Dr. David Rosenberg. \n",
    "\n",
    "### Citation\n",
    "Adel M. Abdallah and David E. Rosenberg (xx). A Data Model to Manage Data for Water Resources Systems Modeling.Environmental Modelling & Software"
   ]
  },
  {
   "cell_type": "markdown",
   "metadata": {},
   "source": [
    "# The End :)"
   ]
  }
 ],
 "metadata": {
  "kernelspec": {
   "display_name": "Python 2",
   "language": "python",
   "name": "python2"
  },
  "language_info": {
   "codemirror_mode": {
    "name": "ipython",
    "version": 2
   },
   "file_extension": ".py",
   "mimetype": "text/x-python",
   "name": "python",
   "nbconvert_exporter": "python",
   "pygments_lexer": "ipython2",
   "version": "2.7.13"
  }
 },
 "nbformat": 4,
 "nbformat_minor": 2
}
