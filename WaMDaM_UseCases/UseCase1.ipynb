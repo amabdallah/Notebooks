{
 "cells": [
  {
   "cell_type": "markdown",
   "metadata": {},
   "source": [
    "### Number of available attributes to expand WEAP and WASH models to the entire Bear River Watershed"
   ]
  },
  {
   "cell_type": "markdown",
   "metadata": {},
   "source": [
    "Add text to describe this use case and plot\n"
   ]
  },
  {
   "cell_type": "code",
   "execution_count": null,
   "metadata": {},
   "outputs": [],
   "source": [
    "import sys\n",
    "\n",
    "import plotly.plotly as py\n",
    "import plotly.graph_objs as go\n",
    "import plotly.offline as offline\n",
    "offline.init_notebook_mode(connected=True)\n",
    "\n",
    "\n",
    "trace1 = go.Bar(\n",
    "    x=['Required', 'Available', 'Redundant to choose','No data'],\n",
    "    y=[175,13, 26,162],\n",
    "    name='WEAP',\n",
    "    marker=dict(\n",
    "        color='#0F6B99'),\n",
    ")\n",
    "trace2 = go.Bar(\n",
    "    x=['Required', 'Available', 'Redundant to choose','No data'],\n",
    "    y=[61,6, 55,18],\n",
    "    name='WASH',\n",
    "    marker=dict(\n",
    "        color='#51A3CC'))\n",
    "\n",
    "data = [trace1, trace2]\n",
    "\n",
    "layout = go.Layout(\n",
    "    barmode='group',\n",
    "    \n",
    "    legend=dict(\n",
    "        x=0.2,\n",
    "        y=1.0,orientation=\"h\"),\n",
    "    \n",
    "    \n",
    "    xaxis=dict(\n",
    "        tickfont=dict(\n",
    "            size=20,\n",
    "           color='#000000',family='arial'\n",
    "        )\n",
    "    ),\n",
    "    yaxis=dict(\n",
    "        title='# of attributes',\n",
    "        titlefont=dict(\n",
    "            size=20,\n",
    "           color='#000000',family='arial'\n",
    "        ),\n",
    "        tickfont=dict(\n",
    "            size=20,\n",
    "            color='#000000',family='arial'\n",
    "        )\n",
    "    ),    \n",
    "     autosize=False,\n",
    "    width=860,\n",
    "    height=650,\n",
    "        margin=dict(\n",
    "         b=150), \n",
    "font=dict(size=20,family='arial',color='#000000'),\n",
    "\n",
    ")\n",
    "\n",
    "fig = go.Figure(data=data, layout=layout)\n",
    "\n",
    "offline.iplot(fig,filename = 'jupyter/UseCase1.png',image='png')\n",
    "\n",
    "\n",
    "\n"
   ]
  },
  {
   "cell_type": "code",
   "execution_count": null,
   "metadata": {},
   "outputs": [],
   "source": []
  }
 ],
 "metadata": {
  "kernelspec": {
   "display_name": "Python 2",
   "language": "python",
   "name": "python2"
  },
  "language_info": {
   "codemirror_mode": {
    "name": "ipython",
    "version": 2
   },
   "file_extension": ".py",
   "mimetype": "text/x-python",
   "name": "python",
   "nbconvert_exporter": "python",
   "pygments_lexer": "ipython2",
   "version": "2.7.15"
  }
 },
 "nbformat": 4,
 "nbformat_minor": 2
}
