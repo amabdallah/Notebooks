{
 "cells": [
  {
   "cell_type": "markdown",
   "metadata": {},
   "source": [
    "### Number of available attributes to expand WEAP and WASH models to the entire Bear River Watershed"
   ]
  },
  {
   "cell_type": "markdown",
   "metadata": {},
   "source": [
    "Add text to describe this use case and plot\n"
   ]
  },
  {
   "cell_type": "code",
   "execution_count": 84,
   "metadata": {},
   "outputs": [
    {
     "data": {
      "text/html": [
       "<script>requirejs.config({paths: { 'plotly': ['https://cdn.plot.ly/plotly-latest.min']},});if(!window.Plotly) {{require(['plotly'],function(plotly) {window.Plotly=plotly;});}}</script>"
      ],
      "text/vnd.plotly.v1+html": [
       "<script>requirejs.config({paths: { 'plotly': ['https://cdn.plot.ly/plotly-latest.min']},});if(!window.Plotly) {{require(['plotly'],function(plotly) {window.Plotly=plotly;});}}</script>"
      ]
     },
     "metadata": {},
     "output_type": "display_data"
    },
    {
     "data": {
      "application/vnd.plotly.v1+json": {
       "data": [
        {
         "marker": {
          "color": "#0F6B99"
         },
         "name": "WEAP",
         "type": "bar",
         "x": [
          "Required",
          "Available",
          "Redundant to choose",
          "No data"
         ],
         "y": [
          130,
          26,
          200,
          105
         ]
        },
        {
         "marker": {
          "color": "#51A3CC"
         },
         "name": "WASH",
         "type": "bar",
         "x": [
          "Required",
          "Available",
          "Redundant to choose",
          "No data"
         ],
         "y": [
          54,
          6,
          43,
          48
         ]
        }
       ],
       "layout": {
        "autosize": false,
        "barmode": "group",
        "font": {
         "color": "#000000",
         "family": "arial",
         "size": 20
        },
        "height": 650,
        "legend": {
         "orientation": "h",
         "x": 0.2,
         "y": 1
        },
        "margin": {
         "b": 150
        },
        "width": 860,
        "xaxis": {
         "tickfont": {
          "color": "#000000",
          "family": "arial",
          "size": 20
         }
        },
        "yaxis": {
         "tickfont": {
          "color": "#000000",
          "family": "arial",
          "size": 20
         },
         "title": "# of attributes",
         "titlefont": {
          "color": "#000000",
          "family": "arial",
          "size": 20
         }
        }
       }
      },
      "text/html": [
       "<div id=\"1bf3a8b3-8df2-4262-81b4-be09c348a855\" style=\"height: 650px; width: 860px;\" class=\"plotly-graph-div\"></div><script type=\"text/javascript\">require([\"plotly\"], function(Plotly) { window.PLOTLYENV=window.PLOTLYENV || {};window.PLOTLYENV.BASE_URL=\"https://plot.ly\";Plotly.newPlot(\"1bf3a8b3-8df2-4262-81b4-be09c348a855\", [{\"marker\": {\"color\": \"#0F6B99\"}, \"y\": [130, 26, 200, 105], \"type\": \"bar\", \"name\": \"WEAP\", \"x\": [\"Required\", \"Available\", \"Redundant to choose\", \"No data\"]}, {\"marker\": {\"color\": \"#51A3CC\"}, \"y\": [54, 6, 43, 48], \"type\": \"bar\", \"name\": \"WASH\", \"x\": [\"Required\", \"Available\", \"Redundant to choose\", \"No data\"]}], {\"autosize\": false, \"barmode\": \"group\", \"yaxis\": {\"tickfont\": {\"color\": \"#000000\", \"family\": \"arial\", \"size\": 20}, \"titlefont\": {\"color\": \"#000000\", \"family\": \"arial\", \"size\": 20}, \"title\": \"# of attributes\"}, \"height\": 650, \"width\": 860, \"xaxis\": {\"tickfont\": {\"color\": \"#000000\", \"family\": \"arial\", \"size\": 20}}, \"font\": {\"color\": \"#000000\", \"family\": \"arial\", \"size\": 20}, \"margin\": {\"b\": 150}, \"legend\": {\"y\": 1.0, \"x\": 0.2, \"orientation\": \"h\"}}, {\"linkText\": \"Export to plot.ly\", \"showLink\": true})});</script>"
      ],
      "text/vnd.plotly.v1+html": [
       "<div id=\"1bf3a8b3-8df2-4262-81b4-be09c348a855\" style=\"height: 650px; width: 860px;\" class=\"plotly-graph-div\"></div><script type=\"text/javascript\">require([\"plotly\"], function(Plotly) { window.PLOTLYENV=window.PLOTLYENV || {};window.PLOTLYENV.BASE_URL=\"https://plot.ly\";Plotly.newPlot(\"1bf3a8b3-8df2-4262-81b4-be09c348a855\", [{\"marker\": {\"color\": \"#0F6B99\"}, \"y\": [130, 26, 200, 105], \"type\": \"bar\", \"name\": \"WEAP\", \"x\": [\"Required\", \"Available\", \"Redundant to choose\", \"No data\"]}, {\"marker\": {\"color\": \"#51A3CC\"}, \"y\": [54, 6, 43, 48], \"type\": \"bar\", \"name\": \"WASH\", \"x\": [\"Required\", \"Available\", \"Redundant to choose\", \"No data\"]}], {\"autosize\": false, \"barmode\": \"group\", \"yaxis\": {\"tickfont\": {\"color\": \"#000000\", \"family\": \"arial\", \"size\": 20}, \"titlefont\": {\"color\": \"#000000\", \"family\": \"arial\", \"size\": 20}, \"title\": \"# of attributes\"}, \"height\": 650, \"width\": 860, \"xaxis\": {\"tickfont\": {\"color\": \"#000000\", \"family\": \"arial\", \"size\": 20}}, \"font\": {\"color\": \"#000000\", \"family\": \"arial\", \"size\": 20}, \"margin\": {\"b\": 150}, \"legend\": {\"y\": 1.0, \"x\": 0.2, \"orientation\": \"h\"}}, {\"linkText\": \"Export to plot.ly\", \"showLink\": true})});</script>"
      ]
     },
     "metadata": {},
     "output_type": "display_data"
    },
    {
     "data": {
      "text/html": [
       "<script>function downloadimage(format, height, width, filename) {var p = document.getElementById('1bf3a8b3-8df2-4262-81b4-be09c348a855');Plotly.downloadImage(p, {format: format, height: height, width: width, filename: filename});};if(document.readyState == 'complete') {{downloadimage('png', 600, 800, 'jupyter/UseCase1.png');}}</script>"
      ],
      "text/plain": [
       "<IPython.core.display.HTML object>"
      ]
     },
     "metadata": {},
     "output_type": "display_data"
    }
   ],
   "source": [
    "import sys\n",
    "\n",
    "import plotly.plotly as py\n",
    "import plotly.graph_objs as go\n",
    "import plotly.offline as offline\n",
    "offline.init_notebook_mode(connected=True)\n",
    "\n",
    "\n",
    "trace1 = go.Bar(\n",
    "    x=['Required', 'Available', 'Redundant to choose','No data'],\n",
    "    y=[130,26, 200,105],\n",
    "    name='WEAP',\n",
    "    marker=dict(\n",
    "        color='#0F6B99'),\n",
    ")\n",
    "trace2 = go.Bar(\n",
    "    x=['Required', 'Available', 'Redundant to choose','No data'],\n",
    "    y=[54,6, 43,48],\n",
    "    name='WASH',\n",
    "    marker=dict(\n",
    "        color='#51A3CC'))\n",
    "\n",
    "data = [trace1, trace2]\n",
    "\n",
    "layout = go.Layout(\n",
    "    barmode='group',\n",
    "    \n",
    "    legend=dict(\n",
    "        x=0.2,\n",
    "        y=1.0,orientation=\"h\"),\n",
    "    \n",
    "    \n",
    "    xaxis=dict(\n",
    "        tickfont=dict(\n",
    "            size=20,\n",
    "           color='#000000',family='arial'\n",
    "        )\n",
    "    ),\n",
    "    yaxis=dict(\n",
    "        title='# of attributes',\n",
    "        titlefont=dict(\n",
    "            size=20,\n",
    "           color='#000000',family='arial'\n",
    "        ),\n",
    "        tickfont=dict(\n",
    "            size=20,\n",
    "            color='#000000',family='arial'\n",
    "        )\n",
    "    ),    \n",
    "     autosize=False,\n",
    "    width=860,\n",
    "    height=650,\n",
    "        margin=dict(\n",
    "         b=150), \n",
    "font=dict(size=20,family='arial',color='#000000'),\n",
    "\n",
    ")\n",
    "\n",
    "fig = go.Figure(data=data, layout=layout)\n",
    "\n",
    "offline.iplot(fig,filename = 'jupyter/UseCase1.png',image='png')\n",
    "\n",
    "\n",
    "\n"
   ]
  }
 ],
 "metadata": {
  "kernelspec": {
   "display_name": "Python 2",
   "language": "python",
   "name": "python2"
  },
  "language_info": {
   "codemirror_mode": {
    "name": "ipython",
    "version": 2
   },
   "file_extension": ".py",
   "mimetype": "text/x-python",
   "name": "python",
   "nbconvert_exporter": "python",
   "pygments_lexer": "ipython2",
   "version": "2.7.15"
  }
 },
 "nbformat": 4,
 "nbformat_minor": 2
}
