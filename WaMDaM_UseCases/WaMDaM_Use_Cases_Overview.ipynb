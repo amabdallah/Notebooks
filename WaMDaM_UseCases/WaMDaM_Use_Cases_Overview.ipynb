{
 "cells": [
  {
   "cell_type": "markdown",
   "metadata": {},
   "source": [
    "# WaMDaM Use Cases: Overview\n",
    "This notebook demonstrates example use case analysis to query the Water Management Data Model (WaMDaM) database in SQLite.\n",
    "\n",
    "**WaMDaM** is both an information model and a couple of supporting software ecosystem. WaMDaM tools are designed to organize, identify, and compare multiple [systems water management data](http://docs.wamdam.org/Why_WaMDaM/#what-are-the-water-management-data) in a single database. For more information, see http://wamdam.org/     \n",
    "  \n",
    "  \n",
    "  <img src=\"https://raw.githubusercontent.com/WamdamProject/WaMDaM-software-ecosystem/master/mkdocs/Edit_MD_Files/images/Graphical_abstract3.jpg\" style=\"float:right;width:500px;padding:20px\" align=\"left\">     \n",
    "\n",
    "    \n",
    "**The use cases aim** to assist modelers to build water resources models in three activities to 1) search in datasets loaded in a WaMDaM SQLite database instance for input data needed for a model in a study area, 2) analyze and compare data values to use in a model, and 3) identify how the natural and engineered systems are connected and the directions of flow among them.\n",
    "\n",
    "\n",
    "  \n",
    "\n",
    "The Notebooks use the Python 2.7 libraries [pandas](https://pandas.pydata.org/), [SQLite](http://www.sqlitetutorial.net/sqlite-python/) and [plotly](https://plot.ly/) that are aready installed on the HydroShare Notebook server.\n",
    "\n",
    "**How to use the Notebook**   \n",
    "The Nootebook reads WaMDaM SQLite data from a published HydroShare Generic Resource, runs SQL script for each use case, and then uses plotly to visualize the results. SQL script used here is referenced from the GitHub files to maintain a managable and simple Notebook. However you may place and edit your SQL script within the Notebook as well as shown below. \n",
    "Once you're done with each use case, you may save the use case input SQLite file, the Notebook file, and the results of plots and tabels into a new HydroShare resources of your own. The scripts used in the use cases here is available at http://docs.wamdam.org/UseCases/Application/\n",
    "\n",
    "This tutorial first describes the Bear River Watershed study area and the datasets loaded into WaMDaM. Then it directs the readers to the following three use cases:\n",
    "\n",
    "* [**Use Case 1:** What data are available to develop a model in a particular watershed? ](#Use Case 1)\n",
    "* [**Use Case 2:** What differences are there across datasets in data values of properties of a water system component? ](#Use Case 2)\n",
    "* [**Use Case 3:** How does connectivity of natural and built infrastructure components compare in a particular area across datasets? ](#Use Case 3)\n",
    "\n",
    "\n"
   ]
  },
  {
   "cell_type": "markdown",
   "metadata": {},
   "source": [
    "### Study Area and Data Sources\n",
    "<img src=\"https://github.com/WamdamProject/WaMDaM-software-ecosystem/raw/master/mkdocs/Edit_MD_Files/UseCases/images/BearWatershed.jpg\" style=\"float:right;width:500px;padding:20px\"> \n",
    "\n",
    "The use cases are demonstrated using the WaMDaM CVs, Workbook templates, and the WaMDaM Wizard to prepare and load thirteen national, regional, and local datasets and models load datasets into a WaMDaM SQLite database. \n",
    "\n",
    "We integrate and compare the disparate datasets with a focus to assist modelers to analyze input data for models with a focus on the Bear River Watershed that spans three states, Utah, Idaho, and Wyoming.\n",
    "\n",
    "The River begins in Utah, flows through Wyoming then Idaho, and ends as the largest source of water to the Great Salt Lake in Utah (UDWR, 2000).\n",
    "\n",
    "\n",
    "We use the [WaMDaM Wizard](http://docs.wamdam.org/Getting_started/Steps/) to load thirteen different and models into a single WaMDaM database SQLite file. The datasets cover natural and built water supply and demand, infrastructure connectivity, with different data types, networks and scenarios that cover the WaMDaM capabilities. Each of the datasets on GitHub below is prepared and copied into a WaMDaM Excel workbook. Then we loaded all of them one-at-a-time inton a single SQLite database file.\n",
    "\n",
    "<img src=\"https://github.com/WamdamProject/WaMDaM-software-ecosystem/raw/master/mkdocs/Edit_MD_Files/UseCases/images/Datasets.PNG\" style=\"float:left;width:900px;padding:20px\" align=\"middle\">       "
   ]
  },
  {
   "cell_type": "markdown",
   "metadata": {},
   "source": [
    "### [**Use Case 1:** What data are available to develop a model in a particular watershed? ](https://jupyter.cuahsi.org/user/amabdallah/notebooks/notebooks/WaMDaM_UseCases/WaMDaM_UseCase1.ipynb)\n",
    "<a name=\"Use Case 1\"></a>\n",
    "Building a water resources model to solve water management and planning problems requires populating the model with input data that describe the system. In existing practices, once a modeler selects a model and identifies its required types of input data, they manually search for datasets that contain relevant data. \n",
    "\n",
    "This use case shows how a modeler can use WaMDaM extensible Objects, Attributes, and controlled vocabularies to more readily and consistently identify available data from the 13 loaded datasets for WEAP and WASH models. Users can use identified data to expand existing WEAP and WASH model instances in the Lower Bear River Watershed Utah (light red in the study area Figure) to the entire Watershed (darker red in the study area Figure). "
   ]
  },
  {
   "cell_type": "markdown",
   "metadata": {},
   "source": [
    "### **Use Case 2:** What differences are there across datasets in data values of properties of a water system component? \n",
    "Once modelers have identified data availability in Use Case 1, next they need to determine which datasets and values to use in their model. Modelers often use many data management methods to query, manipulate, and join different water management data types (e.g., time series, multi-column arrays) to analyze and prepare them for systems models. \n",
    "\n",
    "Modelers also manually search for descriptive metadata stored separately in many files like PDF of HTML pages. This use case shows how a modeler can use WaMDaM’s multiple data types, controlled vocabularies, conditional queries, and metadata design features to consistently query and compare different types of data values across datasets.\n",
    "\n",
    "[**Use Case 2.1:** What differences are there across datasets in flow data values at a site?](https://jupyter.cuahsi.org/user/amabdallah/notebooks/notebooks/WaMDaM_UseCases/WaMDaM_Use_Case2.1.ipynb)  \n",
    "This case queries and compares multiple datasets that have the flow data where a modeler can use it to populate a model\n",
    "\n",
    "[**Use Case 2.2:** What differences are there across datasets in agriculture water use in an area?](https://jupyter.cuahsi.org/user/amabdallah/notebooks/notebooks/WaMDaM_UseCases/WaMDaM_Use_Case2.2.ipynb)  \n",
    "Modelers often require data for agriculture and other water uses, which are often derived (not measured like flow). \n",
    "\n",
    "[**Use Case 2.3:** What differences are there across datasets in volume and elevation curves of a reservoir? ](https://jupyter.cuahsi.org/user/amabdallah/notebooks/notebooks/WaMDaM_UseCases/WaMDaM_Use_Case2.3.ipynb)  \n",
    "Molders also search for attributes with another type of data like multi-attribute series, which can describe a reservoir bathymetry in relationships between elevation and storage to represent reservoirs physical capacity in the model\n",
    "\n",
    "\n",
    "[**Use Case 2.4:** What differences are there across datasets in dam heights, installed hydropower capacity, and number of generators for two reservoirs?](https://jupyter.cuahsi.org/user/amabdallah/notebooks/notebooks/WaMDaM_UseCases/WaMDaM_Use_Case2.4.ipynb)  \n",
    "Modelers may search for attributes with numeric and descriptive values to correctly understand and represent the functions of water systems like modeling hydropower in Reservoirs. In this case, we use the controlled Instances of Shasta Reservoir, California and Flaming Gorge Reservoir, Utah to identify and compare and relate their dam heights, installed hydropower capacity, and number of generators across both the US Dams and the National Hydropower Datasets (Table 5). With a 100 feet higher dam and four more installed generators, the Shasta Reservoir has a hydropower capacity at about five times of the Flaming Gorge Reservoir. "
   ]
  },
  {
   "cell_type": "markdown",
   "metadata": {},
   "source": [
    "### [**Use Case 3:** How does connectivity of natural and built infrastructure components compare in a particular area across datasets?](https://jupyter.cuahsi.org/user/amabdallah/notebooks/notebooks/WaMDaM_UseCases/WaMDaM_UseCase3.ipynb) \n",
    "<a name=\"Use Case 3\"></a>\n",
    "Besides identifying data values that describe water systems components, researchers need to identify how water supply, demand, and other system components are connected to correctly represent them in models. This use case employs the features of controlled vocabularies and the connectivity of nodes and links through networks to enable a more readily and consistent method to search for water system components and their connectivity across datasets. WaMDaM uses the Connections table to search for all links where a provided node is a start (outflow) or end (inflow) to links. For example, what links flow into or out of Hyrum Reservoir in three model scenarios in the Little Bear River Utah? We draw a schematic for each one, which visually reveals similarities and differences among the networks (Figure 9). "
   ]
  },
  {
   "cell_type": "markdown",
   "metadata": {},
   "source": [
    "### Sponsors and Credit\n",
    "This material is based upon work supported by the National Science Foundation (NSF) under Grants 1135482 (CI-Water) and 1208732 (iUtah). Any opinions, findings, and conclusions or recommendations expressed in this material are those of the author(s) and do not necessarily reflect the views of the NSF.\n",
    "\n",
    "### License\n",
    "WaMDaM and its products are disturbed under a BSD 3-Clause [license](http://docs.wamdam.org/License/)\n",
    "\n",
    "### Authors\n",
    "[Adel M. Abdallah](http://rosenberg.usu.edu/students.htm#AdelAbdallah) has been the lead in WaMDaM development as part of his PhD dissertation at Utah State University under the advising of Dr. David Rosenberg. \n",
    "\n",
    "### Citation\n",
    "Adel M. Abdallah and David E. Rosenberg (2014). WaM-DaM: A Data Model to Organize and Synthesize Water Management Data. 7th International Congress on Environmental Modelling and Software. International Environmental Modelling and Software Society (iEMSs)\n"
   ]
  },
  {
   "cell_type": "markdown",
   "metadata": {},
   "source": [
    "<a id='section4'></a>\n",
    "### 4. Creating a new HydroShare resource\n",
    "\n",
    "The best way to save your data is to put it back into HydroShare and is done using the `createHydroShareResource` function. The first step is to identify the files you want to save to a HydroShare.  The cell below lists all the files in the current working directory."
   ]
  },
  {
   "cell_type": "code",
   "execution_count": 11,
   "metadata": {},
   "outputs": [],
   "source": [
    "import os\n",
    "from utilities import hydroshare\n",
    "#from hs_restclient import HydroShare\n",
    "\n",
    "import sqlite3\n",
    "import numpy as np\n",
    "import pandas as pd"
   ]
  },
  {
   "cell_type": "code",
   "execution_count": 12,
   "metadata": {},
   "outputs": [
    {
     "name": "stdout",
     "output_type": "stream",
     "text": [
      "Adding the following system variables:\n",
      "   HS_USR_NAME = amabdallah\n",
      "   HS_RES_ID = 0213b70855fd4a59b73a18fd0a69985a\n",
      "   HS_RES_TYPE = genericresource\n",
      "   JUPYTER_HUB_IP = jupyter.cuahsi.org\n",
      "\n",
      "These can be accessed using the following command: \n",
      "   os.environ[key]\n",
      "\n",
      "   (e.g.)\n",
      "   os.environ[\"HS_USR_NAME\"]  => amabdallah\n",
      "Successfully established a connection with HydroShare\n"
     ]
    }
   ],
   "source": [
    "# establish a secure connection to HydroShare\n",
    "hs = hydroshare.hydroshare()"
   ]
  },
  {
   "cell_type": "code",
   "execution_count": 13,
   "metadata": {},
   "outputs": [
    {
     "name": "stdout",
     "output_type": "stream",
     "text": [
      "My files: ['2.4_plotcdf.html', 'CDF_data.csv', 'Filtered Data.csv', 'query_resut2.csv', 'query_resut.csv', 'UseCase2.2_dentifyDemandSites_TimeSeriesValues.html', 'WaMDaM_Use_Case1.ipynb', 'WaMDaM_Use_Case2.1.ipynb', 'WaMDaM_Use_Case2.2.ipynb', 'WaMDaM_Use_Case2.3.ipynb', 'WaMDaM_Use_Case2.4.ipynb', 'WaMDaM_Use_Case3.ipynb', 'WaMDaM_Use_Cases_Overview.ipynb']\n"
     ]
    }
   ],
   "source": [
    "# Grab all the files in the folder where you are working  \n",
    "files = !ls\n",
    "print('My files: %s' % files)"
   ]
  },
  {
   "cell_type": "code",
   "execution_count": 14,
   "metadata": {},
   "outputs": [],
   "source": [
    "# define HydroShare required metadata\n",
    "title = 'WaMDaM_Use_Cases_Overview and all files'\n",
    "abstract = 'This a test for runing a use case of wamdam using jupyter in HydroShare'\n",
    "keywords = ['Time series', 'Bear River']\n",
    "\n",
    "# set the resource type that will be created.\n",
    "rtype = 'genericresource'\n",
    "\n",
    "# create a list of files that will be added to the HydroShare resource.\n",
    "    \n",
    "        "
   ]
  },
  {
   "cell_type": "code",
   "execution_count": 15,
   "metadata": {},
   "outputs": [
    {
     "name": "stdout",
     "output_type": "stream",
     "text": [
      "Resource Created Successfully                           \n",
      "Successfully Added Content Files                      \n"
     ]
    },
    {
     "data": {
      "text/html": [
       "Resource id: e3fc4c100a1440be8ed2669e3803cef9"
      ],
      "text/plain": [
       "<IPython.core.display.HTML object>"
      ]
     },
     "metadata": {},
     "output_type": "display_data"
    },
    {
     "data": {
      "text/html": [
       "<a href=https://www.hydroshare.org/resource/e3fc4c100a1440be8ed2669e3803cef9 target=\"_blank\">Open Resource in HydroShare<a>"
      ],
      "text/plain": [
       "<IPython.core.display.HTML object>"
      ]
     },
     "metadata": {},
     "output_type": "display_data"
    }
   ],
   "source": [
    "# create a hydroshare resource containing these data\n",
    "resource_id = hs.createHydroShareResource(abstract, \n",
    "                                          title, \n",
    "                                          keywords=keywords, \n",
    "                                          resource_type=rtype, \n",
    "                                          content_files=files, \n",
    "                                          public=False)"
   ]
  },
  {
   "cell_type": "code",
   "execution_count": null,
   "metadata": {},
   "outputs": [],
   "source": []
  },
  {
   "cell_type": "code",
   "execution_count": null,
   "metadata": {},
   "outputs": [],
   "source": []
  }
 ],
 "metadata": {
  "kernelspec": {
   "display_name": "Python 2.7",
   "language": "python",
   "name": "python2"
  },
  "language_info": {
   "codemirror_mode": {
    "name": "ipython",
    "version": 2
   },
   "file_extension": ".py",
   "mimetype": "text/x-python",
   "name": "python",
   "nbconvert_exporter": "python",
   "pygments_lexer": "ipython2",
   "version": "2.7.14"
  }
 },
 "nbformat": 4,
 "nbformat_minor": 2
}
